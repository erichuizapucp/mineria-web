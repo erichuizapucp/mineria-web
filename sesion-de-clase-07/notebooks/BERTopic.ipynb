{
 "cells": [
  {
   "metadata": {
    "collapsed": true,
    "ExecuteTime": {
     "end_time": "2025-10-08T02:20:41.150369Z",
     "start_time": "2025-10-08T02:20:41.145634Z"
    }
   },
   "cell_type": "code",
   "source": [
    "import pandas as pd\n",
    "from bertopic import BERTopic\n",
    "from sentence_transformers import SentenceTransformer"
   ],
   "id": "4bfc4a6409e75b55",
   "outputs": [],
   "execution_count": 22
  },
  {
   "metadata": {
    "ExecuteTime": {
     "end_time": "2025-10-08T02:21:21.849045Z",
     "start_time": "2025-10-08T02:21:17.561935Z"
    }
   },
   "cell_type": "code",
   "source": [
    "df = pd.read_csv(\"../datos/comentarios.csv\")\n",
    "model = SentenceTransformer(\"sentence-transformers/paraphrase-multilingual-MiniLM-L12-v2\")\n",
    "embeddings = model.encode(df[\"texto_comentario\"].tolist(), show_progress_bar=True)\n",
    "\n",
    "topic_model = BERTopic(language=\"spanish\", calculate_probabilities=True, verbose=True)\n",
    "\n",
    "topics, probs = topic_model.fit_transform(df[\"texto_comentario\"], embeddings)\n",
    "\n",
    "df[\"topic\"] = topics\n",
    "df.head()"
   ],
   "id": "ecd39e215f8b4de2",
   "outputs": [
    {
     "name": "stderr",
     "output_type": "stream",
     "text": [
      "Batches: 100%|██████████| 20/20 [00:00<00:00, 64.89it/s]\n",
      "2025-10-07 21:21:21,482 - BERTopic - Dimensionality - Fitting the dimensionality reduction algorithm\n",
      "2025-10-07 21:21:21,790 - BERTopic - Dimensionality - Completed ✓\n",
      "2025-10-07 21:21:21,790 - BERTopic - Cluster - Start clustering the reduced embeddings\n",
      "2025-10-07 21:21:21,811 - BERTopic - Cluster - Completed ✓\n",
      "2025-10-07 21:21:21,812 - BERTopic - Representation - Fine-tuning topics using representation models.\n",
      "2025-10-07 21:21:21,826 - BERTopic - Representation - Completed ✓\n"
     ]
    },
    {
     "data": {
      "text/plain": [
       "   id_comentario  id_cliente  id_producto  calificacion  \\\n",
       "0              1           1            2             5   \n",
       "1              2           2            4             4   \n",
       "2              3           3            1             5   \n",
       "3              4           4            5             3   \n",
       "4              5           5            3             4   \n",
       "\n",
       "                                    texto_comentario fecha_comentario  topic  \n",
       "0  El Smartphone Nexus 5G es un cambio de juego. ...       2024-05-20      7  \n",
       "1  La Camiseta Deportiva Ultralight es muy cómoda...       2024-05-21      6  \n",
       "2  La Laptop Gamer Pro es una bestia de rendimien...       2024-05-22      5  \n",
       "3  Las Zapatillas Urbanas Fit tienen un diseño mu...       2024-05-23      8  \n",
       "4  Los Auriculares Inalámbricos X ofrecen un soni...       2024-05-24      1  "
      ],
      "text/html": [
       "<div>\n",
       "<style scoped>\n",
       "    .dataframe tbody tr th:only-of-type {\n",
       "        vertical-align: middle;\n",
       "    }\n",
       "\n",
       "    .dataframe tbody tr th {\n",
       "        vertical-align: top;\n",
       "    }\n",
       "\n",
       "    .dataframe thead th {\n",
       "        text-align: right;\n",
       "    }\n",
       "</style>\n",
       "<table border=\"1\" class=\"dataframe\">\n",
       "  <thead>\n",
       "    <tr style=\"text-align: right;\">\n",
       "      <th></th>\n",
       "      <th>id_comentario</th>\n",
       "      <th>id_cliente</th>\n",
       "      <th>id_producto</th>\n",
       "      <th>calificacion</th>\n",
       "      <th>texto_comentario</th>\n",
       "      <th>fecha_comentario</th>\n",
       "      <th>topic</th>\n",
       "    </tr>\n",
       "  </thead>\n",
       "  <tbody>\n",
       "    <tr>\n",
       "      <th>0</th>\n",
       "      <td>1</td>\n",
       "      <td>1</td>\n",
       "      <td>2</td>\n",
       "      <td>5</td>\n",
       "      <td>El Smartphone Nexus 5G es un cambio de juego. ...</td>\n",
       "      <td>2024-05-20</td>\n",
       "      <td>7</td>\n",
       "    </tr>\n",
       "    <tr>\n",
       "      <th>1</th>\n",
       "      <td>2</td>\n",
       "      <td>2</td>\n",
       "      <td>4</td>\n",
       "      <td>4</td>\n",
       "      <td>La Camiseta Deportiva Ultralight es muy cómoda...</td>\n",
       "      <td>2024-05-21</td>\n",
       "      <td>6</td>\n",
       "    </tr>\n",
       "    <tr>\n",
       "      <th>2</th>\n",
       "      <td>3</td>\n",
       "      <td>3</td>\n",
       "      <td>1</td>\n",
       "      <td>5</td>\n",
       "      <td>La Laptop Gamer Pro es una bestia de rendimien...</td>\n",
       "      <td>2024-05-22</td>\n",
       "      <td>5</td>\n",
       "    </tr>\n",
       "    <tr>\n",
       "      <th>3</th>\n",
       "      <td>4</td>\n",
       "      <td>4</td>\n",
       "      <td>5</td>\n",
       "      <td>3</td>\n",
       "      <td>Las Zapatillas Urbanas Fit tienen un diseño mu...</td>\n",
       "      <td>2024-05-23</td>\n",
       "      <td>8</td>\n",
       "    </tr>\n",
       "    <tr>\n",
       "      <th>4</th>\n",
       "      <td>5</td>\n",
       "      <td>5</td>\n",
       "      <td>3</td>\n",
       "      <td>4</td>\n",
       "      <td>Los Auriculares Inalámbricos X ofrecen un soni...</td>\n",
       "      <td>2024-05-24</td>\n",
       "      <td>1</td>\n",
       "    </tr>\n",
       "  </tbody>\n",
       "</table>\n",
       "</div>"
      ]
     },
     "execution_count": 23,
     "metadata": {},
     "output_type": "execute_result"
    }
   ],
   "execution_count": 23
  },
  {
   "metadata": {
    "ExecuteTime": {
     "end_time": "2025-10-07T22:19:08.604393Z",
     "start_time": "2025-10-07T22:19:08.598014Z"
    }
   },
   "cell_type": "code",
   "source": [
    "topic_info = topic_model.get_topic_info()\n",
    "topic_info.head()"
   ],
   "id": "bcb93c11a8d6c242",
   "outputs": [
    {
     "data": {
      "text/plain": [
       "   Topic  Count                              Name  \\\n",
       "0     -1     33                  -1_es_la_de_fuga   \n",
       "1      0     89  0_laptop_rendimiento_pantalla_es   \n",
       "2      1     53           1_cámara_teléfono_la_es   \n",
       "3      2     52    2_trama_personajes_me_historia   \n",
       "4      3     50          3_suela_no_me_zapatillas   \n",
       "\n",
       "                                      Representation  \\\n",
       "0  [es, la, de, fuga, cable, en, menor, un, sueño...   \n",
       "1  [laptop, rendimiento, pantalla, es, el, teclad...   \n",
       "2  [cámara, teléfono, la, es, móvil, rápido, pero...   \n",
       "3  [trama, personajes, me, historia, final, libro...   \n",
       "4  [suela, no, me, zapatillas, son, las, para, có...   \n",
       "\n",
       "                                 Representative_Docs  \n",
       "0  [La Cámara de Acción 4K es una joya. La calida...  \n",
       "1  [La laptop es una maravilla. El procesador es ...  \n",
       "2  [El mejor teléfono que he tenido, la pantalla ...  \n",
       "3  [Es un libro muy interesante, pero me esperaba...  \n",
       "4  [La suela de estas zapatillas se desgastó en p...  "
      ],
      "text/html": [
       "<div>\n",
       "<style scoped>\n",
       "    .dataframe tbody tr th:only-of-type {\n",
       "        vertical-align: middle;\n",
       "    }\n",
       "\n",
       "    .dataframe tbody tr th {\n",
       "        vertical-align: top;\n",
       "    }\n",
       "\n",
       "    .dataframe thead th {\n",
       "        text-align: right;\n",
       "    }\n",
       "</style>\n",
       "<table border=\"1\" class=\"dataframe\">\n",
       "  <thead>\n",
       "    <tr style=\"text-align: right;\">\n",
       "      <th></th>\n",
       "      <th>Topic</th>\n",
       "      <th>Count</th>\n",
       "      <th>Name</th>\n",
       "      <th>Representation</th>\n",
       "      <th>Representative_Docs</th>\n",
       "    </tr>\n",
       "  </thead>\n",
       "  <tbody>\n",
       "    <tr>\n",
       "      <th>0</th>\n",
       "      <td>-1</td>\n",
       "      <td>33</td>\n",
       "      <td>-1_es_la_de_fuga</td>\n",
       "      <td>[es, la, de, fuga, cable, en, menor, un, sueño...</td>\n",
       "      <td>[La Cámara de Acción 4K es una joya. La calida...</td>\n",
       "    </tr>\n",
       "    <tr>\n",
       "      <th>1</th>\n",
       "      <td>0</td>\n",
       "      <td>89</td>\n",
       "      <td>0_laptop_rendimiento_pantalla_es</td>\n",
       "      <td>[laptop, rendimiento, pantalla, es, el, teclad...</td>\n",
       "      <td>[La laptop es una maravilla. El procesador es ...</td>\n",
       "    </tr>\n",
       "    <tr>\n",
       "      <th>2</th>\n",
       "      <td>1</td>\n",
       "      <td>53</td>\n",
       "      <td>1_cámara_teléfono_la_es</td>\n",
       "      <td>[cámara, teléfono, la, es, móvil, rápido, pero...</td>\n",
       "      <td>[El mejor teléfono que he tenido, la pantalla ...</td>\n",
       "    </tr>\n",
       "    <tr>\n",
       "      <th>3</th>\n",
       "      <td>2</td>\n",
       "      <td>52</td>\n",
       "      <td>2_trama_personajes_me_historia</td>\n",
       "      <td>[trama, personajes, me, historia, final, libro...</td>\n",
       "      <td>[Es un libro muy interesante, pero me esperaba...</td>\n",
       "    </tr>\n",
       "    <tr>\n",
       "      <th>4</th>\n",
       "      <td>3</td>\n",
       "      <td>50</td>\n",
       "      <td>3_suela_no_me_zapatillas</td>\n",
       "      <td>[suela, no, me, zapatillas, son, las, para, có...</td>\n",
       "      <td>[La suela de estas zapatillas se desgastó en p...</td>\n",
       "    </tr>\n",
       "  </tbody>\n",
       "</table>\n",
       "</div>"
      ]
     },
     "execution_count": 21,
     "metadata": {},
     "output_type": "execute_result"
    }
   ],
   "execution_count": 21
  },
  {
   "metadata": {
    "ExecuteTime": {
     "end_time": "2025-10-08T02:22:55.515647Z",
     "start_time": "2025-10-08T02:22:55.429959Z"
    }
   },
   "cell_type": "code",
   "source": [
    "topic_model.visualize_topics()           # Mapa general de temas (UMAP interno)\n",
    "topic_model.visualize_hierarchy()        # Árbol jerárquico de temas\n",
    "topic_model.visualize_barchart()         # Palabras más relevantes por tema\n",
    "topic_model.visualize_term_rank()        # Importancia relativa de términos"
   ],
   "id": "11d522a97fa48199",
   "outputs": [
    {
     "data": {
      "application/vnd.plotly.v1+json": {
       "data": [
        {
         "hovertext": "<b>Topic -1</b>:en_la_es_de_luz_buena_cámara_pero_",
         "line": {
          "color": "black",
          "width": 1.5
         },
         "mode": "lines+lines",
         "name": "",
         "opacity": 0.1,
         "x": {
          "dtype": "i1",
          "bdata": "AQIDBAUGBwgJCg=="
         },
         "y": {
          "dtype": "f8",
          "bdata": "6/zDVVEerj/gkRfT93ipP9/YASPiS6g/39sRoS5IqD/jy+PFzxGoP1sOP/Vnl6c/PkCL9KZvpz8xaJS4DlGnP1WUp4WDiqQ/VZSnhYOKpD8="
         },
         "type": "scatter"
        },
        {
         "hovertext": "<b>Topic 0</b>:laptop_rendimiento_pantalla_es_el_t",
         "line": {
          "color": "black",
          "width": 1.5
         },
         "mode": "lines+lines",
         "name": "",
         "opacity": 0.1,
         "x": {
          "dtype": "i1",
          "bdata": "AQIDBAUGBwgJCg=="
         },
         "y": {
          "dtype": "f8",
          "bdata": "58y3UMs6sz+MKX/6wFquP8qviTDX0K0/qIIdgXyWqT9QjvGgXZGoP2LghK6UGKg/nOHm0wHJpj/lw7Gl+5GmP2svX9WSBqY/Wdk90uiCpD8="
         },
         "type": "scatter"
        },
        {
         "hovertext": "<b>Topic 1</b>:sonido_auriculares_los_son_cancelac",
         "line": {
          "color": "black",
          "width": 1.5
         },
         "mode": "lines+lines",
         "name": "",
         "opacity": 0.1,
         "x": {
          "dtype": "i1",
          "bdata": "AQIDBAUGBwgJCg=="
         },
         "y": {
          "dtype": "f8",
          "bdata": "oCjfISHFuz+j1CPzZm+zPwMbm/i+Ua4/oxzZQgLKqj9vnQa5ZnWqP6+my93FCKc/YkvYS302pj9nKxJhoYulP5Mp9aeoRKU/kyn1p6hEpT8="
         },
         "type": "scatter"
        },
        {
         "hovertext": "<b>Topic 2</b>:ollas_se_cocina_son_las_comida_calo",
         "line": {
          "color": "black",
          "width": 1.5
         },
         "mode": "lines+lines",
         "name": "",
         "opacity": 0.1,
         "x": {
          "dtype": "i1",
          "bdata": "AQIDBAUGBwgJCg=="
         },
         "y": {
          "dtype": "f8",
          "bdata": "jt40ZQ4Kuz9UhPKTNxKxPxl5AY5KkLA/w3/TyG5MsD+S2x2jPz+sP7mHE0bQX6s/Uy0Wp+pAqj/3xfY3jiiqP2kxcgTp6qg/aTFyBOnqqD8="
         },
         "type": "scatter"
        },
        {
         "hovertext": "<b>Topic 3</b>:trama_personajes_me_historia_libro_",
         "line": {
          "color": "black",
          "width": 1.5
         },
         "mode": "lines+lines",
         "name": "",
         "opacity": 0.1,
         "x": {
          "dtype": "i1",
          "bdata": "AQIDBAUGBwgJCg=="
         },
         "y": {
          "dtype": "f8",
          "bdata": "90hYwnyRtT+eYqwYfaqxP6UM1/q40bA/kmvYEZd4sD9+s+WMMTKtP36z5YwxMq0/rUxctEoaqj8CEr7lHZ+nPwszaFXRLKY/xxlq+B4Tpj8="
         },
         "type": "scatter"
        },
        {
         "hovertext": "<b>Topic 4</b>:mochila_puerto_material_funcional_u",
         "line": {
          "color": "black",
          "width": 1.5
         },
         "mode": "lines+lines",
         "name": "",
         "opacity": 0.1,
         "x": {
          "dtype": "i1",
          "bdata": "AQIDBAUGBwgJCg=="
         },
         "y": {
          "dtype": "f8",
          "bdata": "FQSz2O+yuz+8oHNMvIOxP6XciZbNlq4/ifyDP+80rj+J/IM/7zSuP9tAEZa9gaw/Hf3ttBwsqT/1VZKXz+qmPxXjqBRznqU/OG3KEpjLpD8="
         },
         "type": "scatter"
        },
        {
         "hovertext": "<b>Topic 5</b>:gamer_pro_laptop_una_responsivo_pot",
         "line": {
          "color": "black",
          "width": 1.5
         },
         "mode": "lines+lines",
         "name": "",
         "opacity": 0.1,
         "x": {
          "dtype": "i1",
          "bdata": "AQIDBAUGBwgJCg=="
         },
         "y": {
          "dtype": "f8",
          "bdata": "i33+dRw8uD9/CiqEmMe2P97gnLde+LA/eG94x65qrz9LjzhFM+WsP73P6cgqIKw/gnU+Az+TqT8qQX4vRquoP6booX0fB6g/+5ux1wdSpj8="
         },
         "type": "scatter"
        },
        {
         "hovertext": "<b>Topic 6</b>:camiseta_se_material_ejercicio_sudo",
         "line": {
          "color": "black",
          "width": 1.5
         },
         "mode": "lines+lines",
         "name": "",
         "opacity": 0.1,
         "x": {
          "dtype": "i1",
          "bdata": "AQIDBAUGBwgJCg=="
         },
         "y": {
          "dtype": "f8",
          "bdata": "fYmIjDwwwD/a0I2IL3CxP33MMYOoJLA/WxnTE3uurz9i1SDOGhevP72XkudBHa0/P9fWfJsKrT8/19Z8mwqtP8tdpZeH/6s/DrZI6Qfwqj8="
         },
         "type": "scatter"
        },
        {
         "hovertext": "<b>Topic 7</b>:teléfono_nexus_smartphone_rápido_pa",
         "line": {
          "color": "black",
          "width": 1.5
         },
         "mode": "lines+lines",
         "name": "",
         "opacity": 0.1,
         "x": {
          "dtype": "i1",
          "bdata": "AQIDBAUGBwgJCg=="
         },
         "y": {
          "dtype": "f8",
          "bdata": "0Es8Pd3dtD+P9cofnNmwP4/1yh+c2bA/CK1fxBSWrT+46ZYz0EqtP2bmB3ArCKo/ujJFc8X9qT+rKr+Ng8GnP1KlcV9RDac/gN5NEK7mpj8="
         },
         "type": "scatter"
        },
        {
         "hovertext": "<b>Topic 8</b>:zapatillas_me_no_suela_las_arrepien",
         "line": {
          "color": "black",
          "width": 1.5
         },
         "mode": "lines+lines",
         "name": "",
         "opacity": 0.1,
         "x": {
          "dtype": "i1",
          "bdata": "AQIDBAUGBwgJCg=="
         },
         "y": {
          "dtype": "f8",
          "bdata": "3YwNgG3/tT9hTVDBf9O1Pw4u+VxqrbU/1bqja+FCtD9AlyaauXGyPzjZ54mX460/76wHUURUqT9b/+FcdNmoP4yyRuVQNKc/WwXdoREDpz8="
         },
         "type": "scatter"
        },
        {
         "hovertext": "<b>Topic 9</b>:estabilización_fácil_usar_la_mucho_",
         "line": {
          "color": "black",
          "width": 1.5
         },
         "mode": "lines+lines",
         "name": "",
         "opacity": 0.1,
         "x": {
          "dtype": "i1",
          "bdata": "AQIDBAUGBwgJCg=="
         },
         "y": {
          "dtype": "f8",
          "bdata": "qubZALaLtz+OpjG2Dfa1P/qA27uEy7U/MdY7E3d5sj/WC9MMCG+yPwjXIClSU7I/yH+99GA0sj+XX4OLXt+xP0HUiGSTrLA/iQ4sK72drj8="
         },
         "type": "scatter"
        },
        {
         "hovertext": "<b>Topic 10</b>:balón_durabilidad_agarre_control_r",
         "line": {
          "color": "black",
          "width": 1.5
         },
         "mode": "lines+lines",
         "name": "",
         "opacity": 0.1,
         "x": {
          "dtype": "i1",
          "bdata": "AQIDBAUGBwgJCg=="
         },
         "y": {
          "dtype": "f8",
          "bdata": "u04NI9yNwD/7bxIKsTi9PyNnn2AIIbk/dk20OlVmsT/mZX0GdemwPzFpeqtikrA/0RTbTLBtsD9mMiYCIkqtP94uPyrBP6w/gA7ujRJpqj8="
         },
         "type": "scatter"
        },
        {
         "hovertext": "<b>Topic 11</b>:suela_son_para_cómodos_día_suave_v",
         "line": {
          "color": "black",
          "width": 1.5
         },
         "mode": "lines+lines",
         "name": "",
         "opacity": 0.1,
         "x": {
          "dtype": "i1",
          "bdata": "AQIDBAUGBwgJCg=="
         },
         "y": {
          "dtype": "f8",
          "bdata": "QQ5TBDsPuj+elzakGde1P9VKuMxxW7M/S2p0fBFlsj8MOV4dAByyP6DHUKYbiK8/zx5KqtccrT8Hcd3sdrKsP6GRkmaOK6w/B1ZeN9AnqT8="
         },
         "type": "scatter"
        },
        {
         "hovertext": "<b>Topic 12</b>:móvil_aplicación_buena_pero_cámara",
         "line": {
          "color": "black",
          "width": 1.5
         },
         "mode": "lines+lines",
         "name": "",
         "opacity": 0.1,
         "x": {
          "dtype": "i1",
          "bdata": "AQIDBAUGBwgJCg=="
         },
         "y": {
          "dtype": "f8",
          "bdata": "Xz9pwxMivT/sVFu7Y+W4Py0P3h2SobM/rLX2MMG7sj9wzSNMeLCyP2++ikLSR68/4a9eubTErj8q+XZ20eKsPwB8W86KOKs/AHxbzoo4qz8="
         },
         "type": "scatter"
        },
        {
         "hovertext": "<b>Topic 13</b>:buena_batería_pero_cámara_congelan",
         "line": {
          "color": "black",
          "width": 1.5
         },
         "mode": "lines+lines",
         "name": "",
         "opacity": 0.1,
         "x": {
          "dtype": "i1",
          "bdata": "AQIDBAUGBwgJCg=="
         },
         "y": {
          "dtype": "f8",
          "bdata": "4ST2M5Xvuz8miqpmieO3PxsaeggiiLU/zE/mZOGtsj990jSYp66xP3izToPqmLA/eYulZ746sD9u8Sea92avP27xJ5r3Zq8/zwcixCnXrj8="
         },
         "type": "scatter"
        },
        {
         "hovertext": "<b>Topic 14</b>:increíble_batería_lástima_rendimie",
         "line": {
          "color": "black",
          "width": 1.5
         },
         "mode": "lines+lines",
         "name": "",
         "opacity": 0.1,
         "x": {
          "dtype": "i1",
          "bdata": "AQIDBAUGBwgJCg=="
         },
         "y": {
          "dtype": "f8",
          "bdata": "Z1CQ/tRwtT/43cEEfrWzP0sSLIdu3bI/P0yklOjNsT8It9i39nexPxJ2rjK3cbE/zaOE7qEusT8R1FmSzBWxP5vNGct4vLA/AeO+1rFIsD8="
         },
         "type": "scatter"
        },
        {
         "hovertext": "<b>Topic 15</b>:carcasa_esta_estabilización_video_",
         "line": {
          "color": "black",
          "width": 1.5
         },
         "mode": "lines+lines",
         "name": "",
         "opacity": 0.1,
         "x": {
          "dtype": "i1",
          "bdata": "AQIDBAUGBwgJCg=="
         },
         "y": {
          "dtype": "f8",
          "bdata": "w9OrHTE4vj/4I6Pg7ge+P5yMIm99hrs/A2sRw8jwtj/PnUvKDq62P5w/gj4WK7U/pKUKmK1btD9MK5Af+CK0PxUqAvFM2LM/eBjVXZrNsj8="
         },
         "type": "scatter"
        },
        {
         "hovertext": "<b>Topic 16</b>:acción_4k_de_maravilla_estabilizac",
         "line": {
          "color": "black",
          "width": 1.5
         },
         "mode": "lines+lines",
         "name": "",
         "opacity": 0.1,
         "x": {
          "dtype": "i1",
          "bdata": "AQIDBAUGBwgJCg=="
         },
         "y": {
          "dtype": "f8",
          "bdata": "NZ/9vQCNuz+kPMhTUra4P7gub1aajrU/nJUbHv7AtD8VKDATdDizP+Pah+jKKbE/1sFGNf65sD91SWWbJ3KwPxTLogGKLq4/YOl2mrLkrT8="
         },
         "type": "scatter"
        },
        {
         "hovertext": "<b>Topic 17</b>:balón_buen_bueno_agarre_desgastó_r",
         "line": {
          "color": "black",
          "width": 1.5
         },
         "mode": "lines+lines",
         "name": "",
         "opacity": 0.1,
         "x": {
          "dtype": "i1",
          "bdata": "AQIDBAUGBwgJCg=="
         },
         "y": {
          "dtype": "f8",
          "bdata": "bpsYLOKcvT/mCQNDBe+8PypNAsKavLg/rNNv7O5Etz/aGQr+C2m2P9LfNug1yLU/ICQEI0pctT+tYiHi9Wi0P3wKnCHNarM/sM0P6Y6bsT8="
         },
         "type": "scatter"
        },
        {
         "hovertext": "<b>Topic 18</b>:audio_micrófono_escucha_fondo_baja",
         "line": {
          "color": "black",
          "width": 1.5
         },
         "mode": "lines+lines",
         "name": "",
         "opacity": 0.1,
         "x": {
          "dtype": "i1",
          "bdata": "AQIDBAUGBwgJCg=="
         },
         "y": {
          "dtype": "f8",
          "bdata": "Zg2bKUB1xz9T5qyIq1rHP+SwhtTe98A/BEE+D4KTwD/ROZKywsu6P0LFHbIw1Lk/UAKTmiGGuD+Hw0tR1TW2P3g0Rax0ALY/UXRrErFKtT8="
         },
         "type": "scatter"
        }
       ],
       "layout": {
        "template": {
         "data": {
          "barpolar": [
           {
            "marker": {
             "line": {
              "color": "white",
              "width": 0.5
             },
             "pattern": {
              "fillmode": "overlay",
              "size": 10,
              "solidity": 0.2
             }
            },
            "type": "barpolar"
           }
          ],
          "bar": [
           {
            "error_x": {
             "color": "#2a3f5f"
            },
            "error_y": {
             "color": "#2a3f5f"
            },
            "marker": {
             "line": {
              "color": "white",
              "width": 0.5
             },
             "pattern": {
              "fillmode": "overlay",
              "size": 10,
              "solidity": 0.2
             }
            },
            "type": "bar"
           }
          ],
          "carpet": [
           {
            "aaxis": {
             "endlinecolor": "#2a3f5f",
             "gridcolor": "#C8D4E3",
             "linecolor": "#C8D4E3",
             "minorgridcolor": "#C8D4E3",
             "startlinecolor": "#2a3f5f"
            },
            "baxis": {
             "endlinecolor": "#2a3f5f",
             "gridcolor": "#C8D4E3",
             "linecolor": "#C8D4E3",
             "minorgridcolor": "#C8D4E3",
             "startlinecolor": "#2a3f5f"
            },
            "type": "carpet"
           }
          ],
          "choropleth": [
           {
            "colorbar": {
             "outlinewidth": 0,
             "ticks": ""
            },
            "type": "choropleth"
           }
          ],
          "contourcarpet": [
           {
            "colorbar": {
             "outlinewidth": 0,
             "ticks": ""
            },
            "type": "contourcarpet"
           }
          ],
          "contour": [
           {
            "colorbar": {
             "outlinewidth": 0,
             "ticks": ""
            },
            "colorscale": [
             [
              0.0,
              "#0d0887"
             ],
             [
              0.1111111111111111,
              "#46039f"
             ],
             [
              0.2222222222222222,
              "#7201a8"
             ],
             [
              0.3333333333333333,
              "#9c179e"
             ],
             [
              0.4444444444444444,
              "#bd3786"
             ],
             [
              0.5555555555555556,
              "#d8576b"
             ],
             [
              0.6666666666666666,
              "#ed7953"
             ],
             [
              0.7777777777777778,
              "#fb9f3a"
             ],
             [
              0.8888888888888888,
              "#fdca26"
             ],
             [
              1.0,
              "#f0f921"
             ]
            ],
            "type": "contour"
           }
          ],
          "heatmap": [
           {
            "colorbar": {
             "outlinewidth": 0,
             "ticks": ""
            },
            "colorscale": [
             [
              0.0,
              "#0d0887"
             ],
             [
              0.1111111111111111,
              "#46039f"
             ],
             [
              0.2222222222222222,
              "#7201a8"
             ],
             [
              0.3333333333333333,
              "#9c179e"
             ],
             [
              0.4444444444444444,
              "#bd3786"
             ],
             [
              0.5555555555555556,
              "#d8576b"
             ],
             [
              0.6666666666666666,
              "#ed7953"
             ],
             [
              0.7777777777777778,
              "#fb9f3a"
             ],
             [
              0.8888888888888888,
              "#fdca26"
             ],
             [
              1.0,
              "#f0f921"
             ]
            ],
            "type": "heatmap"
           }
          ],
          "histogram2dcontour": [
           {
            "colorbar": {
             "outlinewidth": 0,
             "ticks": ""
            },
            "colorscale": [
             [
              0.0,
              "#0d0887"
             ],
             [
              0.1111111111111111,
              "#46039f"
             ],
             [
              0.2222222222222222,
              "#7201a8"
             ],
             [
              0.3333333333333333,
              "#9c179e"
             ],
             [
              0.4444444444444444,
              "#bd3786"
             ],
             [
              0.5555555555555556,
              "#d8576b"
             ],
             [
              0.6666666666666666,
              "#ed7953"
             ],
             [
              0.7777777777777778,
              "#fb9f3a"
             ],
             [
              0.8888888888888888,
              "#fdca26"
             ],
             [
              1.0,
              "#f0f921"
             ]
            ],
            "type": "histogram2dcontour"
           }
          ],
          "histogram2d": [
           {
            "colorbar": {
             "outlinewidth": 0,
             "ticks": ""
            },
            "colorscale": [
             [
              0.0,
              "#0d0887"
             ],
             [
              0.1111111111111111,
              "#46039f"
             ],
             [
              0.2222222222222222,
              "#7201a8"
             ],
             [
              0.3333333333333333,
              "#9c179e"
             ],
             [
              0.4444444444444444,
              "#bd3786"
             ],
             [
              0.5555555555555556,
              "#d8576b"
             ],
             [
              0.6666666666666666,
              "#ed7953"
             ],
             [
              0.7777777777777778,
              "#fb9f3a"
             ],
             [
              0.8888888888888888,
              "#fdca26"
             ],
             [
              1.0,
              "#f0f921"
             ]
            ],
            "type": "histogram2d"
           }
          ],
          "histogram": [
           {
            "marker": {
             "pattern": {
              "fillmode": "overlay",
              "size": 10,
              "solidity": 0.2
             }
            },
            "type": "histogram"
           }
          ],
          "mesh3d": [
           {
            "colorbar": {
             "outlinewidth": 0,
             "ticks": ""
            },
            "type": "mesh3d"
           }
          ],
          "parcoords": [
           {
            "line": {
             "colorbar": {
              "outlinewidth": 0,
              "ticks": ""
             }
            },
            "type": "parcoords"
           }
          ],
          "pie": [
           {
            "automargin": true,
            "type": "pie"
           }
          ],
          "scatter3d": [
           {
            "line": {
             "colorbar": {
              "outlinewidth": 0,
              "ticks": ""
             }
            },
            "marker": {
             "colorbar": {
              "outlinewidth": 0,
              "ticks": ""
             }
            },
            "type": "scatter3d"
           }
          ],
          "scattercarpet": [
           {
            "marker": {
             "colorbar": {
              "outlinewidth": 0,
              "ticks": ""
             }
            },
            "type": "scattercarpet"
           }
          ],
          "scattergeo": [
           {
            "marker": {
             "colorbar": {
              "outlinewidth": 0,
              "ticks": ""
             }
            },
            "type": "scattergeo"
           }
          ],
          "scattergl": [
           {
            "marker": {
             "colorbar": {
              "outlinewidth": 0,
              "ticks": ""
             }
            },
            "type": "scattergl"
           }
          ],
          "scattermapbox": [
           {
            "marker": {
             "colorbar": {
              "outlinewidth": 0,
              "ticks": ""
             }
            },
            "type": "scattermapbox"
           }
          ],
          "scattermap": [
           {
            "marker": {
             "colorbar": {
              "outlinewidth": 0,
              "ticks": ""
             }
            },
            "type": "scattermap"
           }
          ],
          "scatterpolargl": [
           {
            "marker": {
             "colorbar": {
              "outlinewidth": 0,
              "ticks": ""
             }
            },
            "type": "scatterpolargl"
           }
          ],
          "scatterpolar": [
           {
            "marker": {
             "colorbar": {
              "outlinewidth": 0,
              "ticks": ""
             }
            },
            "type": "scatterpolar"
           }
          ],
          "scatter": [
           {
            "fillpattern": {
             "fillmode": "overlay",
             "size": 10,
             "solidity": 0.2
            },
            "type": "scatter"
           }
          ],
          "scatterternary": [
           {
            "marker": {
             "colorbar": {
              "outlinewidth": 0,
              "ticks": ""
             }
            },
            "type": "scatterternary"
           }
          ],
          "surface": [
           {
            "colorbar": {
             "outlinewidth": 0,
             "ticks": ""
            },
            "colorscale": [
             [
              0.0,
              "#0d0887"
             ],
             [
              0.1111111111111111,
              "#46039f"
             ],
             [
              0.2222222222222222,
              "#7201a8"
             ],
             [
              0.3333333333333333,
              "#9c179e"
             ],
             [
              0.4444444444444444,
              "#bd3786"
             ],
             [
              0.5555555555555556,
              "#d8576b"
             ],
             [
              0.6666666666666666,
              "#ed7953"
             ],
             [
              0.7777777777777778,
              "#fb9f3a"
             ],
             [
              0.8888888888888888,
              "#fdca26"
             ],
             [
              1.0,
              "#f0f921"
             ]
            ],
            "type": "surface"
           }
          ],
          "table": [
           {
            "cells": {
             "fill": {
              "color": "#EBF0F8"
             },
             "line": {
              "color": "white"
             }
            },
            "header": {
             "fill": {
              "color": "#C8D4E3"
             },
             "line": {
              "color": "white"
             }
            },
            "type": "table"
           }
          ]
         },
         "layout": {
          "annotationdefaults": {
           "arrowcolor": "#2a3f5f",
           "arrowhead": 0,
           "arrowwidth": 1
          },
          "autotypenumbers": "strict",
          "coloraxis": {
           "colorbar": {
            "outlinewidth": 0,
            "ticks": ""
           }
          },
          "colorscale": {
           "diverging": [
            [
             0,
             "#8e0152"
            ],
            [
             0.1,
             "#c51b7d"
            ],
            [
             0.2,
             "#de77ae"
            ],
            [
             0.3,
             "#f1b6da"
            ],
            [
             0.4,
             "#fde0ef"
            ],
            [
             0.5,
             "#f7f7f7"
            ],
            [
             0.6,
             "#e6f5d0"
            ],
            [
             0.7,
             "#b8e186"
            ],
            [
             0.8,
             "#7fbc41"
            ],
            [
             0.9,
             "#4d9221"
            ],
            [
             1,
             "#276419"
            ]
           ],
           "sequential": [
            [
             0.0,
             "#0d0887"
            ],
            [
             0.1111111111111111,
             "#46039f"
            ],
            [
             0.2222222222222222,
             "#7201a8"
            ],
            [
             0.3333333333333333,
             "#9c179e"
            ],
            [
             0.4444444444444444,
             "#bd3786"
            ],
            [
             0.5555555555555556,
             "#d8576b"
            ],
            [
             0.6666666666666666,
             "#ed7953"
            ],
            [
             0.7777777777777778,
             "#fb9f3a"
            ],
            [
             0.8888888888888888,
             "#fdca26"
            ],
            [
             1.0,
             "#f0f921"
            ]
           ],
           "sequentialminus": [
            [
             0.0,
             "#0d0887"
            ],
            [
             0.1111111111111111,
             "#46039f"
            ],
            [
             0.2222222222222222,
             "#7201a8"
            ],
            [
             0.3333333333333333,
             "#9c179e"
            ],
            [
             0.4444444444444444,
             "#bd3786"
            ],
            [
             0.5555555555555556,
             "#d8576b"
            ],
            [
             0.6666666666666666,
             "#ed7953"
            ],
            [
             0.7777777777777778,
             "#fb9f3a"
            ],
            [
             0.8888888888888888,
             "#fdca26"
            ],
            [
             1.0,
             "#f0f921"
            ]
           ]
          },
          "colorway": [
           "#636efa",
           "#EF553B",
           "#00cc96",
           "#ab63fa",
           "#FFA15A",
           "#19d3f3",
           "#FF6692",
           "#B6E880",
           "#FF97FF",
           "#FECB52"
          ],
          "font": {
           "color": "#2a3f5f"
          },
          "geo": {
           "bgcolor": "white",
           "lakecolor": "white",
           "landcolor": "white",
           "showlakes": true,
           "showland": true,
           "subunitcolor": "#C8D4E3"
          },
          "hoverlabel": {
           "align": "left"
          },
          "hovermode": "closest",
          "mapbox": {
           "style": "light"
          },
          "paper_bgcolor": "white",
          "plot_bgcolor": "white",
          "polar": {
           "angularaxis": {
            "gridcolor": "#EBF0F8",
            "linecolor": "#EBF0F8",
            "ticks": ""
           },
           "bgcolor": "white",
           "radialaxis": {
            "gridcolor": "#EBF0F8",
            "linecolor": "#EBF0F8",
            "ticks": ""
           }
          },
          "scene": {
           "xaxis": {
            "backgroundcolor": "white",
            "gridcolor": "#DFE8F3",
            "gridwidth": 2,
            "linecolor": "#EBF0F8",
            "showbackground": true,
            "ticks": "",
            "zerolinecolor": "#EBF0F8"
           },
           "yaxis": {
            "backgroundcolor": "white",
            "gridcolor": "#DFE8F3",
            "gridwidth": 2,
            "linecolor": "#EBF0F8",
            "showbackground": true,
            "ticks": "",
            "zerolinecolor": "#EBF0F8"
           },
           "zaxis": {
            "backgroundcolor": "white",
            "gridcolor": "#DFE8F3",
            "gridwidth": 2,
            "linecolor": "#EBF0F8",
            "showbackground": true,
            "ticks": "",
            "zerolinecolor": "#EBF0F8"
           }
          },
          "shapedefaults": {
           "line": {
            "color": "#2a3f5f"
           }
          },
          "ternary": {
           "aaxis": {
            "gridcolor": "#DFE8F3",
            "linecolor": "#A2B1C6",
            "ticks": ""
           },
           "baxis": {
            "gridcolor": "#DFE8F3",
            "linecolor": "#A2B1C6",
            "ticks": ""
           },
           "bgcolor": "white",
           "caxis": {
            "gridcolor": "#DFE8F3",
            "linecolor": "#A2B1C6",
            "ticks": ""
           }
          },
          "title": {
           "x": 0.05
          },
          "xaxis": {
           "automargin": true,
           "gridcolor": "#EBF0F8",
           "linecolor": "#EBF0F8",
           "ticks": "",
           "title": {
            "standoff": 15
           },
           "zerolinecolor": "#EBF0F8",
           "zerolinewidth": 2
          },
          "yaxis": {
           "automargin": true,
           "gridcolor": "#EBF0F8",
           "linecolor": "#EBF0F8",
           "ticks": "",
           "title": {
            "standoff": 15
           },
           "zerolinecolor": "#EBF0F8",
           "zerolinewidth": 2
          }
         }
        },
        "xaxis": {
         "range": [
          0,
          10
         ],
         "tick0": 1,
         "dtick": 2,
         "title": {
          "text": "Term Rank"
         }
        },
        "title": {
         "font": {
          "size": 22,
          "color": "Black"
         },
         "text": "<b>Term score decline per Topic</b>",
         "y": 0.9,
         "x": 0.5,
         "xanchor": "center",
         "yanchor": "top"
        },
        "hoverlabel": {
         "font": {
          "size": 16,
          "family": "Rockwell"
         },
         "bgcolor": "white"
        },
        "showlegend": false,
        "width": 800,
        "height": 500,
        "yaxis": {
         "title": {
          "text": "c-TF-IDF score"
         }
        }
       },
       "config": {
        "plotlyServerURL": "https://plot.ly"
       }
      }
     },
     "metadata": {},
     "output_type": "display_data",
     "jetTransient": {
      "display_id": null
     }
    }
   ],
   "execution_count": 24
  },
  {
   "metadata": {
    "ExecuteTime": {
     "end_time": "2025-10-08T02:23:15.348037Z",
     "start_time": "2025-10-08T02:23:15.344129Z"
    }
   },
   "cell_type": "code",
   "source": "topic_model.get_topic(0)",
   "id": "6313df7dd55fee33",
   "outputs": [
    {
     "data": {
      "text/plain": [
       "[('laptop', np.float64(0.07511587830213139)),\n",
       " ('rendimiento', np.float64(0.05928614671536811)),\n",
       " ('pantalla', np.float64(0.05823395221236145)),\n",
       " ('es', np.float64(0.049976244698659855)),\n",
       " ('el', np.float64(0.04798405255931171)),\n",
       " ('teclado', np.float64(0.04706253652915461)),\n",
       " ('resolución', np.float64(0.0445023127717292)),\n",
       " ('alta', np.float64(0.04408251187931692)),\n",
       " ('cómodo', np.float64(0.04301890234600488)),\n",
       " ('de', np.float64(0.040061259903199704))]"
      ]
     },
     "execution_count": 25,
     "metadata": {},
     "output_type": "execute_result"
    }
   ],
   "execution_count": 25
  },
  {
   "metadata": {
    "ExecuteTime": {
     "end_time": "2025-10-08T02:23:32.196139Z",
     "start_time": "2025-10-08T02:23:32.187641Z"
    }
   },
   "cell_type": "code",
   "source": [
    "topic_info = topic_model.get_topic_info()\n",
    "topic_info.head(10)"
   ],
   "id": "95256538583c92c8",
   "outputs": [
    {
     "data": {
      "text/plain": [
       "   Topic  Count                                 Name  \\\n",
       "0     -1     40                       -1_en_la_es_de   \n",
       "1      0     89     0_laptop_rendimiento_pantalla_es   \n",
       "2      1     46         1_sonido_auriculares_los_son   \n",
       "3      2     46                2_ollas_se_cocina_son   \n",
       "4      3     45       3_trama_personajes_me_historia   \n",
       "5      4     44  4_mochila_puerto_material_funcional   \n",
       "6      5     34               5_gamer_pro_laptop_una   \n",
       "7      6     31     6_camiseta_se_material_ejercicio   \n",
       "8      7     30   7_teléfono_nexus_smartphone_rápido   \n",
       "9      8     29             8_zapatillas_me_no_suela   \n",
       "\n",
       "                                      Representation  \\\n",
       "0  [en, la, es, de, luz, buena, cámara, pero, cab...   \n",
       "1  [laptop, rendimiento, pantalla, es, el, teclad...   \n",
       "2  [sonido, auriculares, los, son, cancelación, r...   \n",
       "3  [ollas, se, cocina, son, las, comida, calor, s...   \n",
       "4  [trama, personajes, me, historia, libro, final...   \n",
       "5  [mochila, puerto, material, funcional, usb, el...   \n",
       "6  [gamer, pro, laptop, una, responsivo, potente,...   \n",
       "7  [camiseta, se, material, ejercicio, sudor, cóm...   \n",
       "8  [teléfono, nexus, smartphone, rápido, pantalla...   \n",
       "9  [zapatillas, me, no, suela, las, arrepiento, p...   \n",
       "\n",
       "                                 Representative_Docs  \n",
       "0  [La Cámara de Acción 4K es una joya. La calida...  \n",
       "1  [La laptop es una maravilla. El procesador es ...  \n",
       "2  [El sonido es claro, muy contento con la compr...  \n",
       "3  [Excelente set de ollas, muy buena inversión. ...  \n",
       "4  [Es un libro muy interesante, pero me esperaba...  \n",
       "5  [La mochila es funcional, pero el material se ...  \n",
       "6  [La Laptop Gamer Pro es una máquina increíblem...  \n",
       "7  [La mejor camiseta para hacer deporte. No reti...  \n",
       "8  [El teléfono es muy rápido y la pantalla se ve...  \n",
       "9  [Las zapatillas son bonitas pero no muy cómoda...  "
      ],
      "text/html": [
       "<div>\n",
       "<style scoped>\n",
       "    .dataframe tbody tr th:only-of-type {\n",
       "        vertical-align: middle;\n",
       "    }\n",
       "\n",
       "    .dataframe tbody tr th {\n",
       "        vertical-align: top;\n",
       "    }\n",
       "\n",
       "    .dataframe thead th {\n",
       "        text-align: right;\n",
       "    }\n",
       "</style>\n",
       "<table border=\"1\" class=\"dataframe\">\n",
       "  <thead>\n",
       "    <tr style=\"text-align: right;\">\n",
       "      <th></th>\n",
       "      <th>Topic</th>\n",
       "      <th>Count</th>\n",
       "      <th>Name</th>\n",
       "      <th>Representation</th>\n",
       "      <th>Representative_Docs</th>\n",
       "    </tr>\n",
       "  </thead>\n",
       "  <tbody>\n",
       "    <tr>\n",
       "      <th>0</th>\n",
       "      <td>-1</td>\n",
       "      <td>40</td>\n",
       "      <td>-1_en_la_es_de</td>\n",
       "      <td>[en, la, es, de, luz, buena, cámara, pero, cab...</td>\n",
       "      <td>[La Cámara de Acción 4K es una joya. La calida...</td>\n",
       "    </tr>\n",
       "    <tr>\n",
       "      <th>1</th>\n",
       "      <td>0</td>\n",
       "      <td>89</td>\n",
       "      <td>0_laptop_rendimiento_pantalla_es</td>\n",
       "      <td>[laptop, rendimiento, pantalla, es, el, teclad...</td>\n",
       "      <td>[La laptop es una maravilla. El procesador es ...</td>\n",
       "    </tr>\n",
       "    <tr>\n",
       "      <th>2</th>\n",
       "      <td>1</td>\n",
       "      <td>46</td>\n",
       "      <td>1_sonido_auriculares_los_son</td>\n",
       "      <td>[sonido, auriculares, los, son, cancelación, r...</td>\n",
       "      <td>[El sonido es claro, muy contento con la compr...</td>\n",
       "    </tr>\n",
       "    <tr>\n",
       "      <th>3</th>\n",
       "      <td>2</td>\n",
       "      <td>46</td>\n",
       "      <td>2_ollas_se_cocina_son</td>\n",
       "      <td>[ollas, se, cocina, son, las, comida, calor, s...</td>\n",
       "      <td>[Excelente set de ollas, muy buena inversión. ...</td>\n",
       "    </tr>\n",
       "    <tr>\n",
       "      <th>4</th>\n",
       "      <td>3</td>\n",
       "      <td>45</td>\n",
       "      <td>3_trama_personajes_me_historia</td>\n",
       "      <td>[trama, personajes, me, historia, libro, final...</td>\n",
       "      <td>[Es un libro muy interesante, pero me esperaba...</td>\n",
       "    </tr>\n",
       "    <tr>\n",
       "      <th>5</th>\n",
       "      <td>4</td>\n",
       "      <td>44</td>\n",
       "      <td>4_mochila_puerto_material_funcional</td>\n",
       "      <td>[mochila, puerto, material, funcional, usb, el...</td>\n",
       "      <td>[La mochila es funcional, pero el material se ...</td>\n",
       "    </tr>\n",
       "    <tr>\n",
       "      <th>6</th>\n",
       "      <td>5</td>\n",
       "      <td>34</td>\n",
       "      <td>5_gamer_pro_laptop_una</td>\n",
       "      <td>[gamer, pro, laptop, una, responsivo, potente,...</td>\n",
       "      <td>[La Laptop Gamer Pro es una máquina increíblem...</td>\n",
       "    </tr>\n",
       "    <tr>\n",
       "      <th>7</th>\n",
       "      <td>6</td>\n",
       "      <td>31</td>\n",
       "      <td>6_camiseta_se_material_ejercicio</td>\n",
       "      <td>[camiseta, se, material, ejercicio, sudor, cóm...</td>\n",
       "      <td>[La mejor camiseta para hacer deporte. No reti...</td>\n",
       "    </tr>\n",
       "    <tr>\n",
       "      <th>8</th>\n",
       "      <td>7</td>\n",
       "      <td>30</td>\n",
       "      <td>7_teléfono_nexus_smartphone_rápido</td>\n",
       "      <td>[teléfono, nexus, smartphone, rápido, pantalla...</td>\n",
       "      <td>[El teléfono es muy rápido y la pantalla se ve...</td>\n",
       "    </tr>\n",
       "    <tr>\n",
       "      <th>9</th>\n",
       "      <td>8</td>\n",
       "      <td>29</td>\n",
       "      <td>8_zapatillas_me_no_suela</td>\n",
       "      <td>[zapatillas, me, no, suela, las, arrepiento, p...</td>\n",
       "      <td>[Las zapatillas son bonitas pero no muy cómoda...</td>\n",
       "    </tr>\n",
       "  </tbody>\n",
       "</table>\n",
       "</div>"
      ]
     },
     "execution_count": 26,
     "metadata": {},
     "output_type": "execute_result"
    }
   ],
   "execution_count": 26
  }
 ],
 "metadata": {
  "kernelspec": {
   "display_name": "Python 3",
   "language": "python",
   "name": "python3"
  },
  "language_info": {
   "codemirror_mode": {
    "name": "ipython",
    "version": 2
   },
   "file_extension": ".py",
   "mimetype": "text/x-python",
   "name": "python",
   "nbconvert_exporter": "python",
   "pygments_lexer": "ipython2",
   "version": "2.7.6"
  }
 },
 "nbformat": 4,
 "nbformat_minor": 5
}
